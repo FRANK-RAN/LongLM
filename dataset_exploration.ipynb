{
 "cells": [
  {
   "cell_type": "code",
   "execution_count": 15,
   "metadata": {},
   "outputs": [
    {
     "name": "stdout",
     "output_type": "stream",
     "text": [
      "Number of books in the test set of the PG-19 dataset: 100\n",
      "Number of tokens in the test set of the PG-19 dataset: 11337755\n",
      "Mean 113377.55\n",
      "Median: 80243.0\n",
      "Minimum: 3918\n",
      "Maximum: 1323654\n",
      "Standard Deviation: 156358.41710022645\n"
     ]
    }
   ],
   "source": [
    "from datasets import load_dataset\n",
    "from transformers import AutoTokenizer\n",
    "import statistics\n",
    "\n",
    "\"\"\" \n",
    "This script calculates the mean, median, minimum, maximum, and standard deviation of the number of tokens in the test set of the PG-19 dataset.\n",
    "\"\"\"\n",
    "# Load the dataset\n",
    "dataset = load_dataset(\"emozilla/pg19-test\")\n",
    "tokenizer = AutoTokenizer.from_pretrained('meta-llama/Llama-2-7b-hf')\n",
    "textbook_token_nums = []\n",
    "# Explore the dataset\n",
    "for book in dataset['test']['text']:\n",
    "    encodings = tokenizer(book, return_tensors=\"pt\")\n",
    "    textbook_token_nums.append(encodings.input_ids.size(1))\n",
    "\n",
    "# Explore the dataset\n",
    "mean = statistics.mean(textbook_token_nums)\n",
    "median = statistics.median(textbook_token_nums)\n",
    "minimum = min(textbook_token_nums)\n",
    "maximum = max(textbook_token_nums)\n",
    "std_dev = statistics.stdev(textbook_token_nums)\n",
    "\n",
    "# Print the results\n",
    "print(\"Number of books in the test set of the PG-19 dataset:\", len(textbook_token_nums))\n",
    "print(\"Number of tokens in the test set of the PG-19 dataset:\", sum(textbook_token_nums))\n",
    "print(\"Mean\", mean)\n",
    "print(\"Median:\", median)\n",
    "print(\"Minimum:\", minimum)\n",
    "print(\"Maximum:\", maximum)\n",
    "print(\"Standard Deviation:\", std_dev)\n",
    "  \n"
   ]
  },
  {
   "cell_type": "markdown",
   "metadata": {},
   "source": [
    "## PG-19 Datset Intro\n",
    "100 test books.\n",
    "\n",
    "example: https://www.gutenberg.org/cache/epub/10146/pg10146-images.html\n",
    "\n",
    "The mean token number for each book is 113k.\n",
    "\n",
    "The median is 80k.\n"
   ]
  },
  {
   "cell_type": "code",
   "execution_count": 19,
   "metadata": {},
   "outputs": [
    {
     "data": {
      "image/png": "[encoded data removed]",
      "text/plain": [
       "<Figure size 640x480 with 1 Axes>"
      ]
     },
     "metadata": {},
     "output_type": "display_data"
    }
   ],
   "source": [
    "import numpy as np\n",
    "import matplotlib.pyplot as plt\n",
    "\n",
    "# Remove top 1% as outliers\n",
    "threshold = np.percentile(textbook_token_nums, 99)\n",
    "filtered_counts = [count for count in textbook_token_nums if count <= threshold]\n",
    "\n",
    "plt.hist(filtered_counts, bins=50, edgecolor='black')\n",
    "plt.xlabel('Number of Tokens')\n",
    "plt.ylabel('Number of Textbooks')\n",
    "plt.title('Distribution of Tokens in PG-19 Test Textbooks (99% data)')\n",
    "plt.grid(False)\n",
    "plt.show()\n",
    "\n"
   ]
  },
  {
   "cell_type": "markdown",
   "metadata": {},
   "source": [
    "## WikiText-2 Dataset Intro\n",
    "Merge all data from wikitext-2 into one dataset\n",
    "the length is 341k tokens"
   ]
  },
  {
   "cell_type": "code",
   "execution_count": 22,
   "metadata": {},
   "outputs": [
    {
     "name": "stdout",
     "output_type": "stream",
     "text": [
      "Number of examples in the test set of the WikiText-2 dataset: 4358\n",
      "Number of tokens in the test set of the WikiText-2 dataset: 341469\n"
     ]
    }
   ],
   "source": [
    "# statistics for the WikiText-2 dataset\n",
    "# PPL Calculation by Hugging Face: https://huggingface.co/docs/transformers/en/perplexity\n",
    "from datasets import load_dataset\n",
    "\n",
    "test = load_dataset(\"wikitext\", \"wikitext-2-raw-v1\", split=\"test\")\n",
    "print(\"Number of examples in the test set of the WikiText-2 dataset:\", len(test))\n",
    "encodings = tokenizer(\"\\n\\n\".join(test[\"text\"]), return_tensors=\"pt\")\n",
    "print(\"Number of tokens in the test set of the WikiText-2 dataset:\", encodings.input_ids.size(1))"
   ]
  },
  {
   "cell_type": "code",
   "execution_count": 1,
   "metadata": {},
   "outputs": [
    {
     "name": "stderr",
     "output_type": "stream",
     "text": [
      "/home/jr151/.conda/envs/py39/lib/python3.9/site-packages/tqdm/auto.py:21: TqdmWarning: IProgress not found. Please update jupyter and ipywidgets. See https://ipywidgets.readthedocs.io/en/stable/user_install.html\n",
      "  from .autonotebook import tqdm as notebook_tqdm\n",
      "You are attempting to use Flash Attention 2.0 with a model not initialized on GPU. Make sure to move the model to GPU after initializing it on CPU with `model.to('cuda')`.\n",
      "Loading checkpoint shards: 100%|██████████| 2/2 [00:02<00:00,  1.15s/it]\n"
     ]
    },
    {
     "name": "stdout",
     "output_type": "stream",
     "text": [
      "no SelfExtend\n",
      "model_name: meta-llama/Llama-2-7b-chat-hf\n",
      "context_max_length: 4096\n"
     ]
    },
    {
     "name": "stderr",
     "output_type": "stream",
     "text": [
      " 99%|█████████▉| 659/667 [03:16<00:02,  3.35it/s]\n"
     ]
    },
    {
     "name": "stdout",
     "output_type": "stream",
     "text": [
      "Time taken: 196.76 seconds\n",
      "PPL: 6.10\n",
      "GPU Memory Used: 15.11 GB\n",
      "model_name: meta-llama/Llama-2-7b-chat-hf\n",
      "context_max_length: 8192\n"
     ]
    },
    {
     "name": "stderr",
     "output_type": "stream",
     "text": [
      " 98%|█████████▊| 651/667 [06:40<00:09,  1.62it/s]\n"
     ]
    },
    {
     "name": "stdout",
     "output_type": "stream",
     "text": [
      "Time taken: 401.41 seconds\n",
      "PPL: 8457.47\n",
      "GPU Memory Used: 17.60 GB\n",
      "--------------------\n",
      "Using SelfExtend\n",
      "model_name: self extended  meta-llama/Llama-2-7b-chat-hf\n",
      "context_max_length: 4096\n"
     ]
    },
    {
     "name": "stderr",
     "output_type": "stream",
     "text": [
      " 99%|█████████▉| 659/667 [03:57<00:02,  2.77it/s]\n"
     ]
    },
    {
     "name": "stdout",
     "output_type": "stream",
     "text": [
      "Time taken: 237.52 seconds\n",
      "PPL: 6.07\n",
      "GPU Memory Used: 15.11 GB\n",
      "model_name: self extended  meta-llama/Llama-2-7b-chat-hf\n",
      "context_max_length: 8192\n"
     ]
    },
    {
     "name": "stderr",
     "output_type": "stream",
     "text": [
      " 98%|█████████▊| 651/667 [07:55<00:11,  1.37it/s]\n"
     ]
    },
    {
     "name": "stdout",
     "output_type": "stream",
     "text": [
      "Time taken: 475.94 seconds\n",
      "PPL: 6.13\n",
      "GPU Memory Used: 17.59 GB\n",
      "model_name: self extended  meta-llama/Llama-2-7b-chat-hf\n",
      "context_max_length: 12288\n"
     ]
    },
    {
     "name": "stderr",
     "output_type": "stream",
     "text": [
      " 96%|█████████▋| 643/667 [12:13<00:27,  1.14s/it]\n"
     ]
    },
    {
     "name": "stdout",
     "output_type": "stream",
     "text": [
      "Time taken: 733.76 seconds\n",
      "PPL: 6.31\n",
      "GPU Memory Used: 20.09 GB\n",
      "model_name: self extended  meta-llama/Llama-2-7b-chat-hf\n",
      "context_max_length: 16384\n"
     ]
    },
    {
     "name": "stderr",
     "output_type": "stream",
     "text": [
      " 80%|████████  | 535/667 [13:57<03:26,  1.57s/it]"
     ]
    }
   ],
   "source": [
    "from perplexity import compute_perplexity_sliding_window\n",
    "import SelfExtend \n",
    "from transformers import AutoModelForCausalLM\n",
    "from transformers import AutoTokenizer\n",
    "import torch\n",
    "from datasets import load_dataset\n",
    "\n",
    "test = load_dataset(\"wikitext\", \"wikitext-2-raw-v1\", split=\"test\")\n",
    "\n",
    "\n",
    "model_name = \"meta-llama/Llama-2-7b-chat-hf\"\n",
    "model = AutoModelForCausalLM.from_pretrained(model_name, torch_dtype=torch.bfloat16, attn_implementation=\"flash_attention_2\")\n",
    "device = torch.device(\"cuda:1\" if torch.cuda.is_available() else \"cpu\")\n",
    "model.to(device)\n",
    "model.eval()\n",
    "tokenizer = AutoTokenizer.from_pretrained(model_name)\n",
    "\n",
    "encodings = tokenizer(\"\\n\\n\".join(test[\"text\"]), return_tensors=\"pt\")\n",
    "\n",
    "\n",
    "print(\"no SelfExtend\")\n",
    "print(\"model_name:\", model_name)\n",
    "print(\"context_max_length:\", 4096)\n",
    "ppl = compute_perplexity_sliding_window(model, encodings, context_max_length=4096)\n",
    "\n",
    "print(\"model_name:\", model_name)\n",
    "print(\"context_max_length:\", 8192)\n",
    "ppl = compute_perplexity_sliding_window(model, encodings, context_max_length=8192)\n",
    "\n",
    "\n",
    "print(\"--------------------\")\n",
    "print(\"Using SelfExtend\")\n",
    "SelfExtend.apply(model, group_size = 32, window_size = 1024, enable_flash_attention=True)\n",
    "\n",
    "print(\"model_name: self extended \", model_name)\n",
    "print(\"context_max_length:\", 4096)\n",
    "ppl = compute_perplexity_sliding_window(model, encodings, context_max_length=4096)\n",
    "\n",
    "\n",
    "print(\"model_name: self extended \", model_name)\n",
    "print(\"context_max_length:\", 8192)\n",
    "ppl = compute_perplexity_sliding_window(model, encodings, context_max_length=8192)\n",
    "\n",
    "print(\"model_name: self extended \", model_name)\n",
    "print(\"context_max_length:\", 12288)\n",
    "ppl = compute_perplexity_sliding_window(model, encodings, context_max_length=12288)\n",
    "\n",
    "\n",
    "print(\"model_name: self extended \", model_name)\n",
    "print(\"context_max_length:\", 16384)\n",
    "ppl = compute_perplexity_sliding_window(model, encodings, context_max_length=16384)\n"
   ]
  },
  {
   "cell_type": "markdown",
   "metadata": {},
   "source": [
    "## Perplexity of Llama on WikiText-2 with sliding window \n",
    "\n",
    "### No SelfExtend\n",
    "\n",
    "- **Model Name:** meta-llama/Llama-2-7b-chat-hf\n",
    "- **Context Max Length:** 4096\n",
    "- **Time Taken:** 196.76 seconds\n",
    "- **PPL:** 6.10\n",
    "- **GPU Memory Used:** 15.11 GB\n",
    "\n",
    "> \n",
    "\n",
    "- **Model Name:** meta-llama/Llama-2-7b-chat-hf\n",
    "- **Context Max Length:** 8192\n",
    "- **Time Taken:** 401.41 seconds\n",
    "- **PPL:** 8457.47\n",
    "- **GPU Memory Used:** 17.60 GB\n",
    "\n",
    "---\n",
    "\n",
    "### Using SelfExtend\n",
    "\n",
    "- **Model Name:** self extended meta-llama/Llama-2-7b-chat-hf\n",
    "- **Context Max Length:** 4096\n",
    "- **Time Taken:** 237.52 seconds\n",
    "- **PPL:** 6.07\n",
    "- **GPU Memory Used:** 15.11 GB\n",
    "\n",
    "> \n",
    "\n",
    "- **Model Name:** self extended meta-llama/Llama-2-7b-chat-hf\n",
    "- **Context Max Length:** 8192\n",
    "- **Time Taken:** 475.94 seconds\n",
    "- **PPL:** 6.13\n",
    "- **GPU Memory Used:** 17.59 GB\n",
    "\n",
    "> \n",
    "\n",
    "- **Model Name:** self extended meta-llama/Llama-2-7b-chat-hf\n",
    "- **Context Max Length:** 12288\n",
    "- **Time Taken:** 733.76 seconds\n",
    "- **PPL:** 6.31\n",
    "- **GPU Memory Used:** 20.09 GB\n",
    "\n",
    "> \n",
    "\n",
    "- **Model Name:** self extended meta-llama/Llama-2-7b-chat-hf\n",
    "- **Context Max Length:** 16384\n"
   ]
  }
 ],
 "metadata": {
  "kernelspec": {
   "display_name": "py39",
   "language": "python",
   "name": "python3"
  },
  "language_info": {
   "codemirror_mode": {
    "name": "ipython",
    "version": 3
   },
   "file_extension": ".py",
   "mimetype": "text/x-python",
   "name": "python",
   "nbconvert_exporter": "python",
   "pygments_lexer": "ipython3",
   "version": "3.9.18"
  }
 },
 "nbformat": 4,
 "nbformat_minor": 2
}
